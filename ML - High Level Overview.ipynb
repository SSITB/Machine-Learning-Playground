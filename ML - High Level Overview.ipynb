{
 "cells": [
  {
   "cell_type": "markdown",
   "metadata": {},
   "source": [
    "This notebook will be a rough primer on ML using Python.\n",
    "\n",
    "My thought process in this notebook was guided by Intro to ML with Python by Data District Labs!\n",
    "\n",
    "This notebook will just give a taste of ML techniques!"
   ]
  },
  {
   "cell_type": "markdown",
   "metadata": {},
   "source": [
    "ML can be categorised into 3 broad categories:\n",
    "\n",
    " - Supervised - there is a 'correct' label/parameter\n",
    " - Unsupervised - No such 'correct' label/parameter\n",
    " - Reinforcement learning - model interacts with it's envoronment.\n",
    "     Very advanced technique that I will not cover in this notebook.\n",
    " \n",
    " Supervised learning:\n",
    "     - regression - labels are continuous i.e. %'s, probabilities\n",
    "     - classification - labels are categorical/discrete i.e. \"Yes\", \"No\", \"Red\", \"Blue\"\n",
    "\n",
    "Unsupervised Learning:\n",
    "- Discovering hidden structure in unlabeled data. \n",
    "- Attempts to organize datasets into groups of similar data points, ensuring the groups are meaningfully dissimilar from each other. \n",
    "- successful at detecting patterns within datasets\n",
    "\n",
    " Clustering:\n",
    "     - partitive/centroidal\n",
    "         - represented by central vectors, distributions, or densities. common techniques: k-means, k-medoids, OPTICS, and affinity propagation.\n",
    "     - hierarchical\n",
    "         - predetermined ordering from top to bottom\n",
    "         - agglomerative (clusters begin as single instances and iteratively aggregate by similarity until all belong to a single group)\n",
    "         - divisive (the dataset is gradually partitioned, beginning with all instances and finishing with single instances).\n",
    "    "
   ]
  },
  {
   "cell_type": "markdown",
   "metadata": {},
   "source": [
    "Lets try out some examples!"
   ]
  },
  {
   "cell_type": "code",
   "execution_count": 1,
   "metadata": {
    "collapsed": false
   },
   "outputs": [],
   "source": [
    "from sklearn.datasets import load_diabetes\n",
    "from sklearn.datasets import load_boston\n",
    "from sklearn.metrics import mean_squared_error as mse\n",
    "from sklearn.metrics import r2_score\n",
    "from sklearn.linear_model import LinearRegression\n",
    "from sklearn.linear_model import Ridge\n",
    "from sklearn.linear_model import LogisticRegression\n",
    "from sklearn.ensemble import RandomForestRegressor\n",
    "from sklearn.ensemble import RandomForestClassifier\n",
    "from sklearn.svm import SVC\n",
    "from sklearn.cluster import KMeans\n",
    "from sklearn.model_selection import train_test_split\n",
    "from sklearn.metrics import classification_report\n",
    "import pandas as pd\n",
    "import numpy as np\n",
    "import matplotlib.pyplot as plt\n",
    "import requests\n",
    "import os"
   ]
  },
  {
   "cell_type": "code",
   "execution_count": 2,
   "metadata": {
    "collapsed": true
   },
   "outputs": [],
   "source": [
    "diabetes = load_diabetes()\n",
    "boston = load_boston()"
   ]
  },
  {
   "cell_type": "code",
   "execution_count": 3,
   "metadata": {
    "collapsed": false
   },
   "outputs": [
    {
     "data": {
      "text/plain": [
       "dict_keys(['feature_names', 'DESCR', 'target', 'data'])"
      ]
     },
     "execution_count": 3,
     "metadata": {},
     "output_type": "execute_result"
    }
   ],
   "source": [
    "boston.keys() #NOTE that the DESCR ley corresponds to a description of the dataset. Not needed for analysis."
   ]
  },
  {
   "cell_type": "code",
   "execution_count": 4,
   "metadata": {
    "collapsed": false
   },
   "outputs": [
    {
     "data": {
      "text/plain": [
       "array([  2.73100000e-02,   0.00000000e+00,   7.07000000e+00,\n",
       "         0.00000000e+00,   4.69000000e-01,   6.42100000e+00,\n",
       "         7.89000000e+01,   4.96710000e+00,   2.00000000e+00,\n",
       "         2.42000000e+02,   1.78000000e+01,   3.96900000e+02,\n",
       "         9.14000000e+00])"
      ]
     },
     "execution_count": 4,
     "metadata": {},
     "output_type": "execute_result"
    }
   ],
   "source": [
    "boston['data'][1]"
   ]
  },
  {
   "cell_type": "code",
   "execution_count": 5,
   "metadata": {
    "collapsed": false
   },
   "outputs": [
    {
     "data": {
      "text/plain": [
       "array(['CRIM', 'ZN', 'INDUS', 'CHAS', 'NOX', 'RM', 'AGE', 'DIS', 'RAD',\n",
       "       'TAX', 'PTRATIO', 'B', 'LSTAT'], \n",
       "      dtype='<U7')"
      ]
     },
     "execution_count": 5,
     "metadata": {},
     "output_type": "execute_result"
    }
   ],
   "source": [
    "boston['feature_names']"
   ]
  },
  {
   "cell_type": "code",
   "execution_count": 6,
   "metadata": {
    "collapsed": false
   },
   "outputs": [
    {
     "data": {
      "text/plain": [
       "array([ 24. ,  21.6,  34.7,  33.4,  36.2,  28.7,  22.9,  27.1,  16.5,  18.9])"
      ]
     },
     "execution_count": 6,
     "metadata": {},
     "output_type": "execute_result"
    }
   ],
   "source": [
    "boston[\"target\"][:10]"
   ]
  },
  {
   "cell_type": "code",
   "execution_count": 7,
   "metadata": {
    "collapsed": false
   },
   "outputs": [
    {
     "data": {
      "text/plain": [
       "dict_keys(['target', 'data'])"
      ]
     },
     "execution_count": 7,
     "metadata": {},
     "output_type": "execute_result"
    }
   ],
   "source": [
    "diabetes.keys()"
   ]
  },
  {
   "cell_type": "code",
   "execution_count": 8,
   "metadata": {
    "collapsed": false
   },
   "outputs": [
    {
     "data": {
      "text/plain": [
       "array([-0.00188202, -0.04464164, -0.05147406, -0.02632783, -0.00844872,\n",
       "       -0.01916334,  0.07441156, -0.03949338, -0.06832974, -0.09220405])"
      ]
     },
     "execution_count": 8,
     "metadata": {},
     "output_type": "execute_result"
    }
   ],
   "source": [
    "diabetes['data'][1]"
   ]
  },
  {
   "cell_type": "code",
   "execution_count": 9,
   "metadata": {
    "collapsed": false
   },
   "outputs": [
    {
     "data": {
      "text/plain": [
       "array([ 151.,   75.,  141.,  206.,  135.,   97.,  138.,   63.,  110.,  310.])"
      ]
     },
     "execution_count": 9,
     "metadata": {},
     "output_type": "execute_result"
    }
   ],
   "source": [
    "diabetes[\"target\"][:10]"
   ]
  },
  {
   "cell_type": "markdown",
   "metadata": {},
   "source": [
    "From the above, we can see that both of our datasets have labels (target) that are continuous in nature. As such, this calls for supervised learning of the regression type!\n",
    "\n",
    "Let's run a few different types of regression models on the data and see which of them perform the best.\n",
    "\n",
    "We will use the following as evaluation metrics:\n",
    "\n",
    " - mean squared error: precision (variance) and accuracy (bias)\n",
    "\n",
    " - R2 score: how well the prediction fits the data (explained variance)\n",
    "\n"
   ]
  },
  {
   "cell_type": "markdown",
   "metadata": {},
   "source": [
    "Note that the below models are really just testing the effectiveness of different regression models. That is, we already have the 'target' scores and we want to see which models get's us the best predictionof targets when analysing all the data."
   ]
  },
  {
   "cell_type": "code",
   "execution_count": 10,
   "metadata": {
    "collapsed": true
   },
   "outputs": [],
   "source": [
    "model = LinearRegression()\n",
    "model.fit(diabetes.data, diabetes.target) \n",
    "\n",
    "expected = diabetes.target\n",
    "predicted = model.predict(diabetes.data)\n"
   ]
  },
  {
   "cell_type": "code",
   "execution_count": 11,
   "metadata": {
    "collapsed": false
   },
   "outputs": [
    {
     "name": "stdout",
     "output_type": "stream",
     "text": [
      "Linear regression model: Diabetes dataset\n",
      "Mean squared error = 2859.690\n",
      "R2 score = 0.518\n"
     ]
    }
   ],
   "source": [
    "print(\"Linear regression model: Diabetes dataset\")\n",
    "print(\"Mean squared error = %0.3f\" % mse(expected, predicted))\n",
    "print(\"R2 score = %0.3f\" % r2_score(expected, predicted))"
   ]
  },
  {
   "cell_type": "code",
   "execution_count": 12,
   "metadata": {
    "collapsed": false
   },
   "outputs": [
    {
     "name": "stdout",
     "output_type": "stream",
     "text": [
      "Linear regression model: Boston dataset\n",
      "Mean squared error = 21.898\n",
      "R2 score = 0.741\n"
     ]
    }
   ],
   "source": [
    "model.fit(boston.data, boston.target)\n",
    "\n",
    "expected = boston.target\n",
    "predicted = model.predict(boston.data)\n",
    "\n",
    "print(\"Linear regression model: Boston dataset\")\n",
    "print(\"Mean squared error = %0.3f\" % mse(expected, predicted))\n",
    "print(\"R2 score = %0.3f\" % r2_score(expected, predicted))"
   ]
  },
  {
   "cell_type": "markdown",
   "metadata": {},
   "source": [
    "Here we can see that the Linear Regression model explained 51.8% of variance in the Diabetes dataset and 74% of variation in the Boston dataset. It seems taht Linear Regression is pretty decent for the Boston data set - however, let us continue! Onwards to Ridge Regression!"
   ]
  },
  {
   "cell_type": "markdown",
   "metadata": {},
   "source": [
    "Ridge Regression is a form of Regularization! That is, it helps prevent overfitting by reducing the regression coefficent sizes. Overall, this leads to a smaller variance when compared to standard Linear Regression."
   ]
  },
  {
   "cell_type": "code",
   "execution_count": 13,
   "metadata": {
    "collapsed": false
   },
   "outputs": [
    {
     "name": "stdout",
     "output_type": "stream",
     "text": [
      "Ridge regression model: Diabetes dataset\n",
      "Mean squared error = 2890.445\n",
      "R2 score = 0.513\n"
     ]
    }
   ],
   "source": [
    "model = Ridge(alpha=0.1)\n",
    "model.fit(diabetes.data, diabetes.target)\n",
    "\n",
    "expected = diabetes.target\n",
    "predicted = model.predict(diabetes.data)\n",
    "\n",
    "print(\"Ridge regression model: Diabetes dataset\")\n",
    "print(\"Mean squared error = %0.3f\" % mse(expected, predicted))\n",
    "print(\"R2 score = %0.3f\" % r2_score(expected, predicted))"
   ]
  },
  {
   "cell_type": "code",
   "execution_count": 14,
   "metadata": {
    "collapsed": false
   },
   "outputs": [
    {
     "name": "stdout",
     "output_type": "stream",
     "text": [
      "Ridge regression model: Boston dataset\n",
      "Mean squared error = 21.901\n",
      "R2 score = 0.741\n"
     ]
    }
   ],
   "source": [
    "model.fit(boston.data, boston.target)\n",
    "\n",
    "expected = boston.target\n",
    "predicted = model.predict(boston.data)\n",
    "\n",
    "print(\"Ridge regression model: Boston dataset\")\n",
    "print(\"Mean squared error = %0.3f\" % mse(expected, predicted))\n",
    "print(\"R2 score = %0.3f\" % r2_score(expected, predicted))"
   ]
  },
  {
   "cell_type": "markdown",
   "metadata": {},
   "source": [
    "Seems that ridge regression gives us very similar values to our standard linear regression! Looks like our original regression didnt really overfit. Sweet!\n",
    "\n",
    "Let's turn our attention to an ensemble method now:\n",
    "   - This technique: takes multiple algo's and puts them together or runs an algo multiple times and combines it's results.\n",
    "   \n",
    "We will illustrate this with a Random Forest Regression (RFR)!\n",
    "\n",
    "Glossary:\n",
    " - DTR: Decision Tree Regression\n"
   ]
  },
  {
   "cell_type": "code",
   "execution_count": 15,
   "metadata": {
    "collapsed": false
   },
   "outputs": [
    {
     "name": "stdout",
     "output_type": "stream",
     "text": [
      "Random Forest model: Diabetes dataset\n",
      "Mean squared error = 655.428\n",
      "R2 score = 0.889\n"
     ]
    }
   ],
   "source": [
    "model = RandomForestRegressor()\n",
    "model.fit(diabetes.data, diabetes.target)\n",
    "\n",
    "expected = diabetes.target\n",
    "predicted = model.predict(diabetes.data)\n",
    "\n",
    "print(\"Random Forest model: Diabetes dataset\")\n",
    "print(\"Mean squared error = %0.3f\" % mse(expected, predicted))\n",
    "print(\"R2 score = %0.3f\" % r2_score(expected, predicted))"
   ]
  },
  {
   "cell_type": "code",
   "execution_count": 16,
   "metadata": {
    "collapsed": false
   },
   "outputs": [
    {
     "name": "stdout",
     "output_type": "stream",
     "text": [
      "Random Forest model: Boston dataset\n",
      "Mean squared error = 1.965\n",
      "R2 score = 0.977\n"
     ]
    }
   ],
   "source": [
    "model.fit(boston.data, boston.target)\n",
    "\n",
    "expected = boston.target\n",
    "predicted = model.predict(boston.data)\n",
    "\n",
    "print(\"Random Forest model: Boston dataset\")\n",
    "print(\"Mean squared error = %0.3f\" % mse(expected, predicted))\n",
    "print(\"R2 score = %0.3f\" % r2_score(expected, predicted))"
   ]
  },
  {
   "cell_type": "markdown",
   "metadata": {},
   "source": [
    "Woah!! Our ensemble methods have blown our other two regression techniques into oblivion! This should not be surprising as a RFR uses a series of DTR and takes each DTR average."
   ]
  },
  {
   "cell_type": "markdown",
   "metadata": {},
   "source": [
    "Let us now move onto some classifcation supervised learning! We will use the famous Haberman Dataset on Breast Cancer that was collected at the University of Chicago"
   ]
  },
  {
   "cell_type": "code",
   "execution_count": 17,
   "metadata": {
    "collapsed": false
   },
   "outputs": [],
   "source": [
    "URL = \"http://mlr.cs.umass.edu/ml/machine-learning-databases/haberman/haberman.data\"\n",
    "response = requests.get(URL)\n",
    "outpath = os.path.abspath(\"haberman.txt\")\n",
    "with open(outpath, 'wb') as f:\n",
    "    f.write(response.content)\n",
    "\n",
    "df = pd.read_csv(\"haberman.txt\", header=None, names=[\"age_at_op\",\"op_yr\",\"nr_nodes\",\"survival\"])\n",
    "FEATURES = df[[\"age_at_op\",\"op_yr\",\"nr_nodes\"]]\n",
    "TARGETS = df[[\"survival\"]]"
   ]
  },
  {
   "cell_type": "code",
   "execution_count": 18,
   "metadata": {
    "collapsed": true
   },
   "outputs": [],
   "source": [
    "X_train, X_test, y_train, y_test = train_test_split(FEATURES, TARGETS, test_size = 0.2)\n",
    "#20% of the data will be used to test, thus 80% is used for training!"
   ]
  },
  {
   "cell_type": "markdown",
   "metadata": {},
   "source": [
    "What if certain chunks of the data have more variance than others?\n",
    "\n",
    "We need to use cross validation (~ 12 folds is good) to ensure that your models perform just as well regardless of the particular way the data are divided up.\n",
    "\n",
    "For this, we will be using something called a classification report!"
   ]
  },
  {
   "cell_type": "markdown",
   "metadata": {},
   "source": [
    "<img src=\"Precision.png\">"
   ]
  },
  {
   "cell_type": "markdown",
   "metadata": {},
   "source": [
    "Let's use our first classifier - Logisitic regression!"
   ]
  },
  {
   "cell_type": "code",
   "execution_count": 19,
   "metadata": {
    "collapsed": false,
    "deletable": true,
    "editable": true
   },
   "outputs": [
    {
     "name": "stdout",
     "output_type": "stream",
     "text": [
      "<class 'pandas.core.frame.DataFrame'>\n",
      "<class 'pandas.core.frame.DataFrame'>\n",
      "<class 'pandas.core.frame.DataFrame'>\n",
      "<class 'pandas.core.frame.DataFrame'>\n"
     ]
    }
   ],
   "source": [
    "print(type(X_train))\n",
    "print(type(X_test))\n",
    "print(type(y_train))\n",
    "print(type(y_test))\n",
    "\n",
    "#we need to turn these into matrices!"
   ]
  },
  {
   "cell_type": "code",
   "execution_count": 20,
   "metadata": {
    "collapsed": false
   },
   "outputs": [],
   "source": [
    "X_train = X_train.as_matrix()\n",
    "X_test = X_test.as_matrix()\n",
    "y_train = y_train.as_matrix().ravel() #flattens out the matrix. Required for our dependent variable.\n",
    "y_test = y_test.as_matrix().ravel()"
   ]
  },
  {
   "cell_type": "code",
   "execution_count": 21,
   "metadata": {
    "collapsed": false
   },
   "outputs": [
    {
     "name": "stdout",
     "output_type": "stream",
     "text": [
      "Logistic Regression Classifier: Haberman survival dataset\n",
      "             precision    recall  f1-score   support\n",
      "\n",
      "  >=5 years       0.78      0.96      0.86        47\n",
      "   <5 years       0.50      0.13      0.21        15\n",
      "\n",
      "avg / total       0.71      0.76      0.70        62\n",
      "\n"
     ]
    }
   ],
   "source": [
    "model = LogisticRegression()\n",
    "model.fit(X_train, y_train)\n",
    "\n",
    "expected = y_test\n",
    "predicted = model.predict(X_test)\n",
    "\n",
    "print(\"Logistic Regression Classifier: Haberman survival dataset\")\n",
    "print(classification_report(expected, predicted, target_names=[\">=5 years\",\"<5 years\"]))"
   ]
  },
  {
   "cell_type": "markdown",
   "metadata": {},
   "source": [
    "Now let's do some SVM's!\n",
    "\n",
    "Here, points are placed in a transformed problem space that separate the classes into groups.\n",
    "\n",
    "When data isn't linearly separable, mapping to a higher dimensional feature space by computing the kernels can greatly simplify the issue - this is know as the \"kernel trick\"). SVM's are versatile because they can be parameterized with a variety of different kernel functions including linear, polynomial, sigmoid, and radial basis."
   ]
  },
  {
   "cell_type": "code",
   "execution_count": 22,
   "metadata": {
    "collapsed": false
   },
   "outputs": [
    {
     "name": "stdout",
     "output_type": "stream",
     "text": [
      "Support Vector Machine Classifier: Haberman survival dataset\n",
      "             precision    recall  f1-score   support\n",
      "\n",
      "  >=5 years       0.75      0.98      0.85        47\n",
      "   <5 years       0.00      0.00      0.00        15\n",
      "\n",
      "avg / total       0.57      0.74      0.65        62\n",
      "\n"
     ]
    }
   ],
   "source": [
    "model = SVC() # The default parameters for SVC are a radial basis function kernel of degree 3\n",
    "model.fit(X_train, y_train)\n",
    "\n",
    "expected = y_test\n",
    "predicted = model.predict(X_test)\n",
    "\n",
    "print(\"Support Vector Machine Classifier: Haberman survival dataset\")\n",
    "print(classification_report(expected, predicted, target_names=[\">=5 years\",\"<5 years\"]))"
   ]
  },
  {
   "cell_type": "markdown",
   "metadata": {},
   "source": [
    "Let's use the random forest approach again, however, this time we wil use the classifier version! It is important to note that the Sci-Kit learn packages contain both the calssified and regressor version of supervised learning algo's!"
   ]
  },
  {
   "cell_type": "code",
   "execution_count": 23,
   "metadata": {
    "collapsed": false
   },
   "outputs": [
    {
     "name": "stdout",
     "output_type": "stream",
     "text": [
      "Random Forest Classifier: Haberman survival dataset\n",
      "             precision    recall  f1-score   support\n",
      "\n",
      "  >=5 years       0.76      0.83      0.80        47\n",
      "   <5 years       0.27      0.20      0.23        15\n",
      "\n",
      "avg / total       0.65      0.68      0.66        62\n",
      "\n"
     ]
    }
   ],
   "source": [
    "model = RandomForestClassifier()\n",
    "model.fit(X_train, y_train)\n",
    "\n",
    "expected = y_test\n",
    "predicted = model.predict(X_test)\n",
    "\n",
    "print(\"Random Forest Classifier: Haberman survival dataset\")\n",
    "print(classification_report(expected, predicted, target_names=[\">=5 years\",\"<5 years\"]))"
   ]
  },
  {
   "cell_type": "markdown",
   "metadata": {},
   "source": [
    "Now let's move onto some unsupervised learning! Specifically, clustering!! We will use some grocery data from UCI ML Repo of Datasets!\n",
    "\n",
    "Clustering algorithms attempt to find patterns in unlabeled data. They are usually grouped into two main categories: centroidal (to find the centers of clusters) and hierarchical (to find clusters of clusters)."
   ]
  },
  {
   "cell_type": "markdown",
   "metadata": {},
   "source": [
    "Let's start with K-Means clustering"
   ]
  },
  {
   "cell_type": "code",
   "execution_count": 24,
   "metadata": {
    "collapsed": false
   },
   "outputs": [],
   "source": [
    "df = pd.read_csv(\"wholesale-customers.csv\")"
   ]
  },
  {
   "cell_type": "code",
   "execution_count": 25,
   "metadata": {
    "collapsed": false
   },
   "outputs": [
    {
     "data": {
      "text/html": [
       "<div>\n",
       "<table border=\"1\" class=\"dataframe\">\n",
       "  <thead>\n",
       "    <tr style=\"text-align: right;\">\n",
       "      <th></th>\n",
       "      <th>Fresh</th>\n",
       "      <th>Milk</th>\n",
       "      <th>Grocery</th>\n",
       "      <th>Frozen</th>\n",
       "      <th>Detergents_Paper</th>\n",
       "      <th>Delicassen</th>\n",
       "    </tr>\n",
       "  </thead>\n",
       "  <tbody>\n",
       "    <tr>\n",
       "      <th>0</th>\n",
       "      <td>12669</td>\n",
       "      <td>9656</td>\n",
       "      <td>7561</td>\n",
       "      <td>214</td>\n",
       "      <td>2674</td>\n",
       "      <td>1338</td>\n",
       "    </tr>\n",
       "  </tbody>\n",
       "</table>\n",
       "</div>"
      ],
      "text/plain": [
       "   Fresh  Milk  Grocery  Frozen  Detergents_Paper  Delicassen\n",
       "0  12669  9656     7561     214              2674        1338"
      ]
     },
     "execution_count": 25,
     "metadata": {},
     "output_type": "execute_result"
    }
   ],
   "source": [
    "df.head(1)"
   ]
  },
  {
   "cell_type": "code",
   "execution_count": 26,
   "metadata": {
    "collapsed": true
   },
   "outputs": [],
   "source": [
    "data = df.values\n",
    "model = KMeans(n_clusters=7)\n",
    "model.fit(data)\n",
    "\n",
    "labels = model.labels_\n",
    "centroids = model.cluster_centers_"
   ]
  },
  {
   "cell_type": "code",
   "execution_count": 27,
   "metadata": {
    "collapsed": false
   },
   "outputs": [
    {
     "data": {
      "image/png": "[encoded data removed]",
      "text/plain": [
       "<matplotlib.figure.Figure at 0x112eb3390>"
      ]
     },
     "metadata": {},
     "output_type": "display_data"
    }
   ],
   "source": [
    "for i in range(7):\n",
    "    # Plot the points. Hint: Try using principal component analysis (PCA) to narrow down features.\n",
    "    datapoints = data[np.where(labels==i)]\n",
    "    plt.plot(datapoints[:,3],datapoints[:,4],'k.')\n",
    "    # Plot the centroids.\n",
    "    centers = plt.plot(centroids[i,3],centroids[i,4],'x')\n",
    "    plt.setp(centers,markersize=20.0)\n",
    "    plt.setp(centers,markeredgewidth=5.0)\n",
    "plt.xlim([0,15000])\n",
    "plt.ylim([0,18000])\n",
    "plt.show()"
   ]
  },
  {
   "cell_type": "markdown",
   "metadata": {},
   "source": [
    "The black dots are our data points and the x's represent the centers of the clusters that were identified by our model"
   ]
  },
  {
   "cell_type": "markdown",
   "metadata": {},
   "source": [
    "<img src=\"Operational ML.png\">"
   ]
  },
  {
   "cell_type": "markdown",
   "metadata": {},
   "source": [
    "<img src=\"ML flow.png\">"
   ]
  }
 ],
 "metadata": {
  "kernelspec": {
   "display_name": "Python [conda root]",
   "language": "python",
   "name": "conda-root-py"
  },
  "language_info": {
   "codemirror_mode": {
    "name": "ipython",
    "version": 3
   },
   "file_extension": ".py",
   "mimetype": "text/x-python",
   "name": "python",
   "nbconvert_exporter": "python",
   "pygments_lexer": "ipython3",
   "version": "3.5.2"
  }
 },
 "nbformat": 4,
 "nbformat_minor": 2
}
