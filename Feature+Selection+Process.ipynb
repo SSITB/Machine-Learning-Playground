{
 "cells": [
  {
   "cell_type": "markdown",
   "metadata": {},
   "source": [
    "The motivation of this notebook is that the data features we include in our ML models have a huge influence on performance. Thus, it is imperative that we exclude irrelevant features!\n",
    "\n",
    "In this notebook, we will cover several methods that can be used!\n",
    "\n",
    "Feature selection should occur before modelling!\n",
    "\n",
    "Good feature selection will:\n",
    "\n",
    "- Reduce Overfitting\n",
    "- improve accuracy\n",
    "- reduce training time (for very large datasets)\n",
    "\n",
    "Let's use the Pima diabetes dataset for our workthrough."
   ]
  },
  {
   "cell_type": "code",
   "execution_count": 1,
   "metadata": {
    "collapsed": true
   },
   "outputs": [],
   "source": [
    "import pandas as pd\n",
    "import numpy as np\n",
    "import matplotlib.pyplot as plt\n",
    "from sklearn.feature_selection import SelectKBest\n",
    "from sklearn.feature_selection import chi2\n",
    "from sklearn.feature_selection import RFE\n",
    "from sklearn.linear_model import LogisticRegression\n",
    "from sklearn.decomposition import PCA\n",
    "from sklearn.ensemble import ExtraTreesClassifier\n",
    "np.set_printoptions(precision=3)"
   ]
  },
  {
   "cell_type": "code",
   "execution_count": 2,
   "metadata": {
    "collapsed": false
   },
   "outputs": [],
   "source": [
    "diabetes = pd.read_csv(\"pima-indians-diabetes.data.csv\", header=None)"
   ]
  },
  {
   "cell_type": "code",
   "execution_count": 3,
   "metadata": {
    "collapsed": true
   },
   "outputs": [],
   "source": [
    "cols = [\"Number of times pregnant.\",\n",
    "\"Plasma glucose concentration a 2 hours in an oral glucose tolerance test.\",\n",
    "\"Diastolic blood pressure (mm Hg).\",\n",
    "\"Triceps skinfold thickness (mm).\",\n",
    "\"2-Hour serum insulin (mu U/ml).\",\n",
    "\"Body mass index (weight in kg/(height in m)^2).\",\n",
    "\"Diabetes pedigree function.\",\n",
    "\"Age (years).\",\n",
    "\"Class variable (0 or 1).\"] #obtained from UCI website. Simple copy paste.\n",
    "\n",
    "reference = {}\n",
    "counter = 0\n",
    "for i in cols:\n",
    "    if i not in reference.keys():\n",
    "        reference[i] = counter\n",
    "        counter +=1\n",
    "final_reference = {v:k for k, v in reference.items()} #this is so cute - i was very proud of this dict comp."
   ]
  },
  {
   "cell_type": "code",
   "execution_count": 4,
   "metadata": {
    "collapsed": false
   },
   "outputs": [
    {
     "data": {
      "text/plain": [
       "{0: 'Number of times pregnant.',\n",
       " 1: 'Plasma glucose concentration a 2 hours in an oral glucose tolerance test.',\n",
       " 2: 'Diastolic blood pressure (mm Hg).',\n",
       " 3: 'Triceps skinfold thickness (mm).',\n",
       " 4: '2-Hour serum insulin (mu U/ml).',\n",
       " 5: 'Body mass index (weight in kg/(height in m)^2).',\n",
       " 6: 'Diabetes pedigree function.',\n",
       " 7: 'Age (years).',\n",
       " 8: 'Class variable (0 or 1).'}"
      ]
     },
     "execution_count": 4,
     "metadata": {},
     "output_type": "execute_result"
    }
   ],
   "source": [
    "final_reference"
   ]
  },
  {
   "cell_type": "code",
   "execution_count": 5,
   "metadata": {
    "collapsed": false
   },
   "outputs": [
    {
     "data": {
      "text/html": [
       "<div>\n",
       "<table border=\"1\" class=\"dataframe\">\n",
       "  <thead>\n",
       "    <tr style=\"text-align: right;\">\n",
       "      <th></th>\n",
       "      <th>0</th>\n",
       "      <th>1</th>\n",
       "      <th>2</th>\n",
       "      <th>3</th>\n",
       "      <th>4</th>\n",
       "      <th>5</th>\n",
       "      <th>6</th>\n",
       "      <th>7</th>\n",
       "      <th>8</th>\n",
       "    </tr>\n",
       "  </thead>\n",
       "  <tbody>\n",
       "    <tr>\n",
       "      <th>0</th>\n",
       "      <td>6</td>\n",
       "      <td>148</td>\n",
       "      <td>72</td>\n",
       "      <td>35</td>\n",
       "      <td>0</td>\n",
       "      <td>33.6</td>\n",
       "      <td>0.627</td>\n",
       "      <td>50</td>\n",
       "      <td>1</td>\n",
       "    </tr>\n",
       "    <tr>\n",
       "      <th>1</th>\n",
       "      <td>1</td>\n",
       "      <td>85</td>\n",
       "      <td>66</td>\n",
       "      <td>29</td>\n",
       "      <td>0</td>\n",
       "      <td>26.6</td>\n",
       "      <td>0.351</td>\n",
       "      <td>31</td>\n",
       "      <td>0</td>\n",
       "    </tr>\n",
       "    <tr>\n",
       "      <th>2</th>\n",
       "      <td>8</td>\n",
       "      <td>183</td>\n",
       "      <td>64</td>\n",
       "      <td>0</td>\n",
       "      <td>0</td>\n",
       "      <td>23.3</td>\n",
       "      <td>0.672</td>\n",
       "      <td>32</td>\n",
       "      <td>1</td>\n",
       "    </tr>\n",
       "    <tr>\n",
       "      <th>3</th>\n",
       "      <td>1</td>\n",
       "      <td>89</td>\n",
       "      <td>66</td>\n",
       "      <td>23</td>\n",
       "      <td>94</td>\n",
       "      <td>28.1</td>\n",
       "      <td>0.167</td>\n",
       "      <td>21</td>\n",
       "      <td>0</td>\n",
       "    </tr>\n",
       "    <tr>\n",
       "      <th>4</th>\n",
       "      <td>0</td>\n",
       "      <td>137</td>\n",
       "      <td>40</td>\n",
       "      <td>35</td>\n",
       "      <td>168</td>\n",
       "      <td>43.1</td>\n",
       "      <td>2.288</td>\n",
       "      <td>33</td>\n",
       "      <td>1</td>\n",
       "    </tr>\n",
       "  </tbody>\n",
       "</table>\n",
       "</div>"
      ],
      "text/plain": [
       "   0    1   2   3    4     5      6   7  8\n",
       "0  6  148  72  35    0  33.6  0.627  50  1\n",
       "1  1   85  66  29    0  26.6  0.351  31  0\n",
       "2  8  183  64   0    0  23.3  0.672  32  1\n",
       "3  1   89  66  23   94  28.1  0.167  21  0\n",
       "4  0  137  40  35  168  43.1  2.288  33  1"
      ]
     },
     "execution_count": 5,
     "metadata": {},
     "output_type": "execute_result"
    }
   ],
   "source": [
    "diabetes.head()"
   ]
  },
  {
   "cell_type": "markdown",
   "metadata": {},
   "source": [
    "# **Univariate Selection via Stats**"
   ]
  },
  {
   "cell_type": "markdown",
   "metadata": {},
   "source": [
    "The SKlearn library provides us with a host of tools for this.\n",
    "\n",
    "Let's start with the statistical test of Chi-Squared which will tell use about those features that have the strongest relationship with our output (label) variable.\n",
    "\n",
    "We will use the SelectKBest class that can be used with different **statistical tests** to select a specified number of features."
   ]
  },
  {
   "cell_type": "code",
   "execution_count": 6,
   "metadata": {
    "collapsed": true
   },
   "outputs": [],
   "source": [
    "X = diabetes.iloc[:,0:8].values\n",
    "y = diabetes.iloc[:, 8].values"
   ]
  },
  {
   "cell_type": "markdown",
   "metadata": {},
   "source": [
    "Now that we have out features and output variable selected. Say we want to know what the best 4 (k=4) features are absed on the Chi-squared test."
   ]
  },
  {
   "cell_type": "code",
   "execution_count": 7,
   "metadata": {
    "collapsed": true
   },
   "outputs": [],
   "source": [
    "selection = SelectKBest(score_func=chi2, k=4)\n",
    "fit = selection.fit(X, y)"
   ]
  },
  {
   "cell_type": "code",
   "execution_count": 8,
   "metadata": {
    "collapsed": false
   },
   "outputs": [],
   "source": [
    "feature_scores = []\n",
    "for i, val in enumerate(fit.scores_):\n",
    "    feature_scores.append((i, val))"
   ]
  },
  {
   "cell_type": "code",
   "execution_count": 9,
   "metadata": {
    "collapsed": false
   },
   "outputs": [],
   "source": [
    "best_features = sorted(feature_scores, key=lambda x: x[1], reverse=True)[:4]"
   ]
  },
  {
   "cell_type": "markdown",
   "metadata": {},
   "source": [
    "we have to select the top 4 as our fit object calculates the scores for all variables! However, when you use the fit object to transform the X variable directly, it will only return the top 4 faeature columns (see below).\n",
    "\n",
    "Note that \"fit.scores_\" presents scores in order!"
   ]
  },
  {
   "cell_type": "code",
   "execution_count": 10,
   "metadata": {
    "collapsed": false
   },
   "outputs": [
    {
     "data": {
      "text/plain": [
       "[(4, 2175.5652729220137),\n",
       " (1, 1411.8870406441411),\n",
       " (7, 181.30368904430023),\n",
       " (5, 127.669343331037)]"
      ]
     },
     "execution_count": 10,
     "metadata": {},
     "output_type": "execute_result"
    }
   ],
   "source": [
    "best_features"
   ]
  },
  {
   "cell_type": "markdown",
   "metadata": {},
   "source": [
    "The above lines of colde give us the highest scores for each attribute and returns those 4 attributes with the highest scores.\n",
    "\n",
    "We do this step so that we are aware of which columns are the most pertinent.\n",
    "\n",
    "We can also see these 4 columns automatically by transforming the 4 variables directly doing the following:\n",
    "\n",
    "Notice how there are only 4 columns - we specified this earlier in our code\n",
    "\n",
    "This is great, but it isnt as clear in discerning which columns are the most important as you would have to compare this matrix to our original diabetes set\n",
    "\n",
    "i.e. first row in the array below corresponds to first row in our dataframe, with only the 4 important variables."
   ]
  },
  {
   "cell_type": "markdown",
   "metadata": {},
   "source": [
    "At this point, we can use our final_features variable moving forward to split our dataset into training and testing!\n",
    "\n",
    "We might want to know the names of these columns. We can do this below!"
   ]
  },
  {
   "cell_type": "code",
   "execution_count": 11,
   "metadata": {
    "collapsed": false
   },
   "outputs": [
    {
     "name": "stdout",
     "output_type": "stream",
     "text": [
      "2-Hour serum insulin (mu U/ml).\n",
      "\n",
      "Plasma glucose concentration a 2 hours in an oral glucose tolerance test.\n",
      "\n",
      "Age (years).\n",
      "\n",
      "Body mass index (weight in kg/(height in m)^2).\n",
      "\n"
     ]
    }
   ],
   "source": [
    "for i in best_features:\n",
    "    index, score = i\n",
    "    print(final_reference[index])\n",
    "    print()"
   ]
  },
  {
   "cell_type": "markdown",
   "metadata": {},
   "source": [
    "The above lists the feature names in decending order of importance."
   ]
  },
  {
   "cell_type": "code",
   "execution_count": 12,
   "metadata": {
    "collapsed": false
   },
   "outputs": [
    {
     "name": "stdout",
     "output_type": "stream",
     "text": [
      "[[ 148.     0.    33.6   50. ]\n",
      " [  85.     0.    26.6   31. ]\n",
      " [ 183.     0.    23.3   32. ]\n",
      " [  89.    94.    28.1   21. ]\n",
      " [ 137.   168.    43.1   33. ]]\n"
     ]
    }
   ],
   "source": [
    "final_features = fit.transform(X) #see how only our 4 columns if interest are present.\n",
    "print(final_features[:5]) #corresponds to diabetes.head() for our 4 variables of interest, see below df."
   ]
  },
  {
   "cell_type": "code",
   "execution_count": 13,
   "metadata": {
    "collapsed": false
   },
   "outputs": [
    {
     "data": {
      "text/html": [
       "<div>\n",
       "<table border=\"1\" class=\"dataframe\">\n",
       "  <thead>\n",
       "    <tr style=\"text-align: right;\">\n",
       "      <th></th>\n",
       "      <th>0</th>\n",
       "      <th>1</th>\n",
       "      <th>2</th>\n",
       "      <th>3</th>\n",
       "      <th>4</th>\n",
       "      <th>5</th>\n",
       "      <th>6</th>\n",
       "      <th>7</th>\n",
       "      <th>8</th>\n",
       "    </tr>\n",
       "  </thead>\n",
       "  <tbody>\n",
       "    <tr>\n",
       "      <th>0</th>\n",
       "      <td>6</td>\n",
       "      <td>148</td>\n",
       "      <td>72</td>\n",
       "      <td>35</td>\n",
       "      <td>0</td>\n",
       "      <td>33.6</td>\n",
       "      <td>0.627</td>\n",
       "      <td>50</td>\n",
       "      <td>1</td>\n",
       "    </tr>\n",
       "    <tr>\n",
       "      <th>1</th>\n",
       "      <td>1</td>\n",
       "      <td>85</td>\n",
       "      <td>66</td>\n",
       "      <td>29</td>\n",
       "      <td>0</td>\n",
       "      <td>26.6</td>\n",
       "      <td>0.351</td>\n",
       "      <td>31</td>\n",
       "      <td>0</td>\n",
       "    </tr>\n",
       "    <tr>\n",
       "      <th>2</th>\n",
       "      <td>8</td>\n",
       "      <td>183</td>\n",
       "      <td>64</td>\n",
       "      <td>0</td>\n",
       "      <td>0</td>\n",
       "      <td>23.3</td>\n",
       "      <td>0.672</td>\n",
       "      <td>32</td>\n",
       "      <td>1</td>\n",
       "    </tr>\n",
       "    <tr>\n",
       "      <th>3</th>\n",
       "      <td>1</td>\n",
       "      <td>89</td>\n",
       "      <td>66</td>\n",
       "      <td>23</td>\n",
       "      <td>94</td>\n",
       "      <td>28.1</td>\n",
       "      <td>0.167</td>\n",
       "      <td>21</td>\n",
       "      <td>0</td>\n",
       "    </tr>\n",
       "    <tr>\n",
       "      <th>4</th>\n",
       "      <td>0</td>\n",
       "      <td>137</td>\n",
       "      <td>40</td>\n",
       "      <td>35</td>\n",
       "      <td>168</td>\n",
       "      <td>43.1</td>\n",
       "      <td>2.288</td>\n",
       "      <td>33</td>\n",
       "      <td>1</td>\n",
       "    </tr>\n",
       "  </tbody>\n",
       "</table>\n",
       "</div>"
      ],
      "text/plain": [
       "   0    1   2   3    4     5      6   7  8\n",
       "0  6  148  72  35    0  33.6  0.627  50  1\n",
       "1  1   85  66  29    0  26.6  0.351  31  0\n",
       "2  8  183  64   0    0  23.3  0.672  32  1\n",
       "3  1   89  66  23   94  28.1  0.167  21  0\n",
       "4  0  137  40  35  168  43.1  2.288  33  1"
      ]
     },
     "execution_count": 13,
     "metadata": {},
     "output_type": "execute_result"
    }
   ],
   "source": [
    "diabetes.head()"
   ]
  },
  {
   "cell_type": "markdown",
   "metadata": {},
   "source": [
    "At this point, we can use our final_features variable moving forward to split our dataset into training and testing!\n",
    "\n",
    "We might want to know the names of these columns. We can do this below!"
   ]
  },
  {
   "cell_type": "markdown",
   "metadata": {},
   "source": [
    "Awesome - so that was how to use a Chi-Square metric for feature selection. Let's move to soemthing called Recursive Feature Selection!"
   ]
  },
  {
   "cell_type": "markdown",
   "metadata": {},
   "source": [
    "# **RECURSIVE FEATURE SELECTION**"
   ]
  },
  {
   "cell_type": "markdown",
   "metadata": {},
   "source": [
    "RFE recursively removes attributes and builds a model on those attributes that remain. Very very cool!\n",
    "\n",
    "The primary metric used for it's decision to eject a feature is model accuracy. It considers indivudal attributes and groups of attributes together - so it covers all bases! Cool!\n",
    "\n",
    "Let's use RFE in a logisitic regression algo where we only want the top 4 features! (For consistency) Yes, you have to specify how many max feature you want in your algo."
   ]
  },
  {
   "cell_type": "code",
   "execution_count": 14,
   "metadata": {
    "collapsed": false
   },
   "outputs": [
    {
     "name": "stdout",
     "output_type": "stream",
     "text": [
      "Num Features: 4\n",
      "\n",
      "Selected Features: [ True  True False False False  True  True False]\n",
      "\n",
      "Feature Ranking: [1 1 2 4 5 1 1 3]\n",
      "\n"
     ]
    }
   ],
   "source": [
    "lgr = LogisticRegression()\n",
    "rfe = RFE(lgr, 4)\n",
    "fit = rfe.fit(X, y)\n",
    "print(\"Num Features: %d\" % fit.n_features_)\n",
    "print()\n",
    "print(\"Selected Features: %s\" % fit.support_)\n",
    "print()\n",
    "print(\"Feature Ranking: %s\" % fit.ranking_)\n",
    "print()"
   ]
  },
  {
   "cell_type": "markdown",
   "metadata": {},
   "source": [
    "From the above we can see that it selected the best 3 features and gae them a ranking. In the selected features array, those columns with a 'True' correspond to a feature that was selected. In the Feature array, those columns with a 1 correspond to a feature that was selected.\n",
    "\n",
    "Let's check what those columns are!"
   ]
  },
  {
   "cell_type": "code",
   "execution_count": 15,
   "metadata": {
    "collapsed": false
   },
   "outputs": [
    {
     "name": "stdout",
     "output_type": "stream",
     "text": [
      "Number of times pregnant.\n",
      "\n",
      "Plasma glucose concentration a 2 hours in an oral glucose tolerance test.\n",
      "\n",
      "Body mass index (weight in kg/(height in m)^2).\n",
      "\n",
      "Diabetes pedigree function.\n",
      "\n"
     ]
    }
   ],
   "source": [
    "for i, val in enumerate(fit.ranking_):\n",
    "    if val == 1:\n",
    "        print(final_reference[i])\n",
    "        print()"
   ]
  },
  {
   "cell_type": "markdown",
   "metadata": {},
   "source": [
    "Here we can see that the logistic regression is using the above 3 columns as the most important!\n",
    "\n",
    "Awesome!"
   ]
  },
  {
   "cell_type": "code",
   "execution_count": 16,
   "metadata": {
    "collapsed": false
   },
   "outputs": [],
   "source": [
    "v = fit.transform(X) #we can then use these features to split out dataset into training and test!"
   ]
  },
  {
   "cell_type": "code",
   "execution_count": 17,
   "metadata": {
    "collapsed": false
   },
   "outputs": [
    {
     "data": {
      "text/plain": [
       "array([[  6.000e+00,   1.480e+02,   3.360e+01,   6.270e-01],\n",
       "       [  1.000e+00,   8.500e+01,   2.660e+01,   3.510e-01],\n",
       "       [  8.000e+00,   1.830e+02,   2.330e+01,   6.720e-01],\n",
       "       [  1.000e+00,   8.900e+01,   2.810e+01,   1.670e-01],\n",
       "       [  0.000e+00,   1.370e+02,   4.310e+01,   2.288e+00]])"
      ]
     },
     "execution_count": 17,
     "metadata": {},
     "output_type": "execute_result"
    }
   ],
   "source": [
    "v[:5]"
   ]
  },
  {
   "cell_type": "code",
   "execution_count": 18,
   "metadata": {
    "collapsed": false
   },
   "outputs": [
    {
     "data": {
      "text/plain": [
       "(768, 4)"
      ]
     },
     "execution_count": 18,
     "metadata": {},
     "output_type": "execute_result"
    }
   ],
   "source": [
    "v.shape"
   ]
  },
  {
   "cell_type": "code",
   "execution_count": 19,
   "metadata": {
    "collapsed": false
   },
   "outputs": [
    {
     "data": {
      "text/plain": [
       "(768, 9)"
      ]
     },
     "execution_count": 19,
     "metadata": {},
     "output_type": "execute_result"
    }
   ],
   "source": [
    "diabetes.shape"
   ]
  },
  {
   "cell_type": "markdown",
   "metadata": {},
   "source": [
    "An important thing to note at this point is that whenever we did fit.transform (X), we still obtained results that were identical to our original dataset, however, with unselected columns removed. This is great! However, this will NOT be the case with PCA - as such, we will then have to go back to our original dataset and make the appropriate feature celections based on the results of our PCA.\n",
    "\n",
    "Also note that the Chi-square and RFE methods only produces 2 features in common! It is interesting to observe how different models will lead to different feature selection. It is nice to have options as when you later run your models, you can see which has a higher accuracy rate/cross validation report.\n",
    "\n",
    "Let's now move on to PCA - a form of dimensionality reduction! It is usually used when we have a very large number of features and we wish to see which features can be ommitted. Again, we have to choose the number of dimensions that we want a reduction to."
   ]
  },
  {
   "cell_type": "markdown",
   "metadata": {},
   "source": [
    "# **PCA**"
   ]
  },
  {
   "cell_type": "markdown",
   "metadata": {},
   "source": [
    "Here we will use PCA to again select 4 features for consistency!"
   ]
  },
  {
   "cell_type": "code",
   "execution_count": 20,
   "metadata": {
    "collapsed": false
   },
   "outputs": [],
   "source": [
    "pca = PCA(n_components=4)\n",
    "fit = pca.fit(X)"
   ]
  },
  {
   "cell_type": "code",
   "execution_count": 21,
   "metadata": {
    "collapsed": false
   },
   "outputs": [
    {
     "name": "stdout",
     "output_type": "stream",
     "text": [
      "Explained Variance: [ 0.889  0.062  0.026  0.013]\n",
      "\n",
      "[[ -2.022e-03   9.781e-02   1.609e-02   6.076e-02   9.931e-01   1.401e-02\n",
      "    5.372e-04  -3.565e-03]\n",
      " [ -2.265e-02  -9.722e-01  -1.419e-01   5.786e-02   9.463e-02  -4.697e-02\n",
      "   -8.168e-04  -1.402e-01]\n",
      " [ -2.246e-02   1.434e-01  -9.225e-01  -3.070e-01   2.098e-02  -1.324e-01\n",
      "   -6.400e-04  -1.255e-01]\n",
      " [ -4.905e-02   1.198e-01  -2.627e-01   8.844e-01  -6.555e-02   1.928e-01\n",
      "    2.699e-03  -3.010e-01]]\n"
     ]
    }
   ],
   "source": [
    "print(\"Explained Variance: %s\" % fit.explained_variance_ratio_)\n",
    "print()\n",
    "print(fit.components_)"
   ]
  },
  {
   "cell_type": "code",
   "execution_count": 22,
   "metadata": {
    "collapsed": false
   },
   "outputs": [
    {
     "data": {
      "text/plain": [
       "(4, 8)"
      ]
     },
     "execution_count": 22,
     "metadata": {},
     "output_type": "execute_result"
    }
   ],
   "source": [
    "fit.components_.shape"
   ]
  },
  {
   "cell_type": "code",
   "execution_count": 23,
   "metadata": {
    "collapsed": false
   },
   "outputs": [
    {
     "data": {
      "text/plain": [
       "(768, 4)"
      ]
     },
     "execution_count": 23,
     "metadata": {},
     "output_type": "execute_result"
    }
   ],
   "source": [
    "fit.transform(X).shape"
   ]
  },
  {
   "cell_type": "code",
   "execution_count": 24,
   "metadata": {
    "collapsed": false
   },
   "outputs": [
    {
     "data": {
      "text/plain": [
       "array([[-75.715, -35.951,  -7.261,  15.669],\n",
       "       [-82.358,  28.908,  -5.497,   9.005],\n",
       "       [-74.631, -67.906,  19.462,  -5.653],\n",
       "       ..., \n",
       "       [ 32.113,   3.377,  -1.588,  -0.878],\n",
       "       [-80.214, -14.186,  12.351, -14.294],\n",
       "       [-81.308,  21.621,  -8.153,  13.822]])"
      ]
     },
     "execution_count": 24,
     "metadata": {},
     "output_type": "execute_result"
    }
   ],
   "source": [
    "fit.transform(X) # we can use thise data to split and test/train our data."
   ]
  },
  {
   "cell_type": "markdown",
   "metadata": {},
   "source": [
    "This concludes PCA! Note that original column names cannot be retrieved as PCA is a weighted linear combination of all columns!"
   ]
  },
  {
   "cell_type": "markdown",
   "metadata": {},
   "source": [
    "# **Extra Tree Classifier**"
   ]
  },
  {
   "cell_type": "code",
   "execution_count": 32,
   "metadata": {
    "collapsed": false
   },
   "outputs": [
    {
     "data": {
      "text/plain": [
       "ExtraTreesClassifier(bootstrap=False, class_weight=None, criterion='gini',\n",
       "           max_depth=None, max_features='auto', max_leaf_nodes=None,\n",
       "           min_impurity_split=1e-07, min_samples_leaf=1,\n",
       "           min_samples_split=2, min_weight_fraction_leaf=0.0,\n",
       "           n_estimators=10, n_jobs=1, oob_score=False, random_state=None,\n",
       "           verbose=0, warm_start=False)"
      ]
     },
     "execution_count": 32,
     "metadata": {},
     "output_type": "execute_result"
    }
   ],
   "source": [
    "etc = ExtraTreesClassifier()\n",
    "etc.fit(X, y)"
   ]
  },
  {
   "cell_type": "code",
   "execution_count": 33,
   "metadata": {
    "collapsed": false
   },
   "outputs": [
    {
     "data": {
      "text/plain": [
       "array([ 0.108,  0.261,  0.092,  0.078,  0.068,  0.145,  0.123,  0.126])"
      ]
     },
     "execution_count": 33,
     "metadata": {},
     "output_type": "execute_result"
    }
   ],
   "source": [
    "etc.feature_importances_"
   ]
  },
  {
   "cell_type": "markdown",
   "metadata": {},
   "source": [
    "Each column corresponds to the column in the original data set. The higher the score, the more important."
   ]
  },
  {
   "cell_type": "code",
   "execution_count": 34,
   "metadata": {
    "collapsed": true
   },
   "outputs": [],
   "source": [
    "feature_scores = []\n",
    "for i, val in enumerate(etc.feature_importances_):\n",
    "    feature_scores.append((i, val))"
   ]
  },
  {
   "cell_type": "code",
   "execution_count": 35,
   "metadata": {
    "collapsed": true
   },
   "outputs": [],
   "source": [
    "best_features = sorted(feature_scores, key=lambda x: x[1], reverse=True)[:4]"
   ]
  },
  {
   "cell_type": "code",
   "execution_count": 36,
   "metadata": {
    "collapsed": false
   },
   "outputs": [
    {
     "data": {
      "text/plain": [
       "[(1, 0.26064746831779861),\n",
       " (5, 0.14529529703003063),\n",
       " (7, 0.12620896153185038),\n",
       " (6, 0.12285697106678732)]"
      ]
     },
     "execution_count": 36,
     "metadata": {},
     "output_type": "execute_result"
    }
   ],
   "source": [
    "best_features"
   ]
  },
  {
   "cell_type": "markdown",
   "metadata": {},
   "source": [
    "As we can see above, the ETC has ranked out features. We can look at the top 4 below:"
   ]
  },
  {
   "cell_type": "code",
   "execution_count": 37,
   "metadata": {
    "collapsed": false
   },
   "outputs": [
    {
     "name": "stdout",
     "output_type": "stream",
     "text": [
      "Plasma glucose concentration a 2 hours in an oral glucose tolerance test.\n",
      "\n",
      "Body mass index (weight in kg/(height in m)^2).\n",
      "\n",
      "Age (years).\n",
      "\n",
      "Diabetes pedigree function.\n",
      "\n"
     ]
    }
   ],
   "source": [
    "for i in best_features:\n",
    "    index, score = i\n",
    "    print(final_reference[index])\n",
    "    print()"
   ]
  },
  {
   "cell_type": "markdown",
   "metadata": {},
   "source": [
    "This concludes out feature selection process!"
   ]
  }
 ],
 "metadata": {
  "kernelspec": {
   "display_name": "Python [conda root]",
   "language": "python",
   "name": "conda-root-py"
  },
  "language_info": {
   "codemirror_mode": {
    "name": "ipython",
    "version": 3
   },
   "file_extension": ".py",
   "mimetype": "text/x-python",
   "name": "python",
   "nbconvert_exporter": "python",
   "pygments_lexer": "ipython3",
   "version": "3.5.2"
  }
 },
 "nbformat": 4,
 "nbformat_minor": 2
}
